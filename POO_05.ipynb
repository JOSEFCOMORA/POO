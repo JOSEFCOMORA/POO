{
  "nbformat": 4,
  "nbformat_minor": 0,
  "metadata": {
    "colab": {
      "provenance": []
    },
    "kernelspec": {
      "name": "python3",
      "display_name": "Python 3"
    },
    "language_info": {
      "name": "python"
    }
  },
  "cells": [
    {
      "cell_type": "markdown",
      "source": [
        "# Clases, Herencias y Polimorfismos.\n",
        "\n"
      ],
      "metadata": {
        "id": "gtB9m08kYzZ4"
      }
    },
    {
      "cell_type": "code",
      "source": [
        "class Mascota():\n",
        "  def __init__(self):\n",
        "    print(\"Soy Jose Francisco.\")\n",
        "\n",
        "  def adivina(self):\n",
        "    print(\"Tengo 19 años\")\n",
        "\n",
        "  def hablar(self):\n",
        "    print(\"Hablo español\")\n",
        "\n",
        "\n"
      ],
      "metadata": {
        "id": "yvjXgN4aY5Rw"
      },
      "execution_count": null,
      "outputs": []
    }
  ]
}