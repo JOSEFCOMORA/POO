{
  "nbformat": 4,
  "nbformat_minor": 0,
  "metadata": {
    "colab": {
      "provenance": []
    },
    "kernelspec": {
      "name": "python3",
      "display_name": "Python 3"
    },
    "language_info": {
      "name": "python"
    }
  },
  "cells": [
    {
      "cell_type": "markdown",
      "source": [
        "Clase Formulas: Herederas atributos deficiones"
      ],
      "metadata": {
        "id": "BX9orSxoz0hv"
      }
    },
    {
      "cell_type": "code",
      "execution_count": 33,
      "metadata": {
        "colab": {
          "base_uri": "https://localhost:8080/"
        },
        "id": "wvhFRdFrl-nl",
        "outputId": "40efdd79-b4bd-4bd1-ec55-989f5515d815"
      },
      "outputs": [
        {
          "output_type": "stream",
          "name": "stdout",
          "text": [
            "Ingresa el valor del lado 1: 10\n",
            "Ingresa el valor del lado 2: 5\n",
            "Ingresa el valor del lado 3: 8\n",
            "Área del triángulo: 43.30127018922193\n",
            "Perímetro del triángulo: 23.0\n"
          ]
        }
      ],
      "source": [
        "import math\n",
        "\n",
        "class TrianguloEquilatero:\n",
        "    def __init__(self, lado1, lado2, lado3):\n",
        "        self.lado1 = lado1\n",
        "        self.lado2 = lado2\n",
        "        self.lado3 = lado3\n",
        "\n",
        "    def calcular_area(self):\n",
        "        \"\"\"\n",
        "        Calcula el área del triángulo equilátero.\n",
        "        Fórmula: (raíz cuadrada de 3 / 4) * lado^2\n",
        "        \"\"\"\n",
        "        return (math.sqrt(3) / 4) * self.lado1**2\n",
        "\n",
        "    def calcular_perimetro(self):\n",
        "        \"\"\"\n",
        "        Calcula el perímetro del triángulo equilátero.\n",
        "        \"\"\"\n",
        "        return self.lado1 + self.lado2 + self.lado3\n",
        "\n",
        "# Solicitar al usuario los valores de los lados\n",
        "lado1 = float(input(\"Ingresa el valor del lado 1: \"))\n",
        "lado2 = float(input(\"Ingresa el valor del lado 2: \"))\n",
        "lado3 = float(input(\"Ingresa el valor del lado 3: \"))\n",
        "\n",
        "# Crear una instancia de la clase TrianguloEquilatero\n",
        "triangulo = TrianguloEquilatero(lado1, lado2, lado3)\n",
        "\n",
        "# Calcular área y perímetro\n",
        "area = triangulo.calcular_area()\n",
        "perimetro = triangulo.calcular_perimetro()\n",
        "\n",
        "# Imprimir resultados\n",
        "print(f\"Área del triángulo: {area}\")\n",
        "print(f\"Perímetro del triángulo: {perimetro}\")"
      ]
    },
    {
      "cell_type": "code",
      "source": [
        "import random\n",
        "\n",
        "class Matriz:\n",
        "    def __init__(self, filas, columnas):\n",
        "        self.filas = filas\n",
        "        self.columnas = columnas\n",
        "        self.matriz = [[0] * columnas for _ in range(filas)]\n",
        "\n",
        "    def __str__(self):\n",
        "        return \"\\n\".join([\" \".join(map(str, fila)) for fila in self.matriz])\n",
        "\n",
        "class MatrizAleatoria(Matriz):\n",
        "    def __init__(self, filas, columnas, rango_inicio, rango_fin):\n",
        "        super().__init__(filas, columnas)\n",
        "        self.generar_matriz_aleatoria(rango_inicio, rango_fin)\n",
        "\n",
        "    def generar_matriz_aleatoria(self, rango_inicio, rango_fin):\n",
        "        for i in range(self.filas):\n",
        "            for j in range(self.columnas):\n",
        "                self.matriz[i][j] = random.randint(rango_inicio, rango_fin)\n",
        "\n",
        "matriz_aleatoria = MatrizAleatoria(4, 4, 1, 100)\n",
        "\n",
        "print(\"Matriz Aleatoria:\")\n",
        "print(matriz_aleatoria)"
      ],
      "metadata": {
        "colab": {
          "base_uri": "https://localhost:8080/"
        },
        "id": "xLgBmClI2Sf0",
        "outputId": "7702fc07-1de2-4d91-b03a-b1b6a150c181"
      },
      "execution_count": 41,
      "outputs": [
        {
          "output_type": "stream",
          "name": "stdout",
          "text": [
            "Matriz Aleatoria:\n",
            "71 78 66 7\n",
            "18 71 6 39\n",
            "30 45 9 62\n",
            "69 32 66 23\n"
          ]
        }
      ]
    },
    {
      "cell_type": "code",
      "source": [
        "import numpy as np\n",
        "\n",
        "class Matriz:\n",
        "    def __init__(self, matriz):\n",
        "        self.matriz = matriz\n",
        "\n",
        "    def __str__(self):\n",
        "        return str(self.matriz)\n",
        "\n",
        "class CalculadoraDeterminante(Matriz):\n",
        "    def __init__(self, matriz):\n",
        "        super().__init__(matriz)\n",
        "\n",
        "    def calcular_determinante(self):\n",
        "        try:\n",
        "            determinante = np.linalg.det(self.matriz)\n",
        "            return determinante\n",
        "        except np.linalg.LinAlgError:\n",
        "            return \"La matriz no es cuadrada, no se puede calcular el determinante.\"\n",
        "\n",
        "matriz_ejemplo = np.array([[1, 2, 3],\n",
        "                           [4, 5, 6],\n",
        "                           [7, 8, 9]])\n",
        "\n",
        "matriz_calculadora = CalculadoraDeterminante(matriz_ejemplo)\n",
        "\n",
        "resultado = matriz_calculadora.calcular_determinante()\n",
        "\n",
        "print(f\"Matriz:\\n{matriz_calculadora}\\nDeterminante: {resultado}\")"
      ],
      "metadata": {
        "colab": {
          "base_uri": "https://localhost:8080/"
        },
        "id": "7BGV_f_o5IgZ",
        "outputId": "b7e465df-aeb2-421f-8f87-3efb7b7aab6e"
      },
      "execution_count": 40,
      "outputs": [
        {
          "output_type": "stream",
          "name": "stdout",
          "text": [
            "Matriz:\n",
            "[[1 2 3]\n",
            " [4 5 6]\n",
            " [7 8 9]]\n",
            "Determinante: 0.0\n"
          ]
        }
      ]
    }
  ]
}