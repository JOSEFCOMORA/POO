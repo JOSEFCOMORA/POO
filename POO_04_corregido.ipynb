{
  "nbformat": 4,
  "nbformat_minor": 0,
  "metadata": {
    "colab": {
      "provenance": []
    },
    "kernelspec": {
      "name": "python3",
      "display_name": "Python 3"
    },
    "language_info": {
      "name": "python"
    }
  },
  "cells": [
    {
      "cell_type": "code",
      "execution_count": 1,
      "metadata": {
        "id": "CGA_35Qnb6pz"
      },
      "outputs": [],
      "source": [
        "def area(b, h):\n",
        "    return b * h / 2"
      ]
    },
    {
      "cell_type": "code",
      "source": [
        "area (7,12)"
      ],
      "metadata": {
        "colab": {
          "base_uri": "https://localhost:8080/"
        },
        "id": "KIOnLcPDcGgp",
        "outputId": "84afe69c-c3c7-4f53-927b-a23fe4c48874"
      },
      "execution_count": 2,
      "outputs": [
        {
          "output_type": "execute_result",
          "data": {
            "text/plain": [
              "42.0"
            ]
          },
          "metadata": {},
          "execution_count": 2
        }
      ]
    },
    {
      "cell_type": "code",
      "source": [
        "def perimetro(b, l):\n",
        "    p=(b*2)+l\n",
        "    return p"
      ],
      "metadata": {
        "id": "SBPn5NnscJtg"
      },
      "execution_count": 8,
      "outputs": []
    },
    {
      "cell_type": "code",
      "source": [
        "perimetro(2,8)"
      ],
      "metadata": {
        "colab": {
          "base_uri": "https://localhost:8080/"
        },
        "id": "5IarMbxxcqkt",
        "outputId": "80d88a66-255f-40de-97ff-77f6cd3b5596"
      },
      "execution_count": 9,
      "outputs": [
        {
          "output_type": "execute_result",
          "data": {
            "text/plain": [
              "12"
            ]
          },
          "metadata": {},
          "execution_count": 9
        }
      ]
    },
    {
      "cell_type": "code",
      "source": [
        "def numpar(x):\n",
        "    num=x%2\n",
        "    return num"
      ],
      "metadata": {
        "id": "8UjkiGR7cuPk"
      },
      "execution_count": 10,
      "outputs": []
    },
    {
      "cell_type": "code",
      "source": [
        "numpar(2)\n",
        "num = 2%2"
      ],
      "metadata": {
        "id": "46ew9sA8c69Z"
      },
      "execution_count": 18,
      "outputs": []
    },
    {
      "cell_type": "code",
      "source": [
        "def numero(x):\n",
        "    resultado = x % 2\n",
        "    if resultado == 0:\n",
        "      print(\"par\")\n",
        "    else:\n",
        "      print(\"impar\")"
      ],
      "metadata": {
        "id": "SjMgRXuNpj8r"
      },
      "execution_count": 23,
      "outputs": []
    },
    {
      "cell_type": "code",
      "source": [
        "Perfectos = [i for i in range(1,28) if 28%i==0]\n",
        "Perfectos"
      ],
      "metadata": {
        "colab": {
          "base_uri": "https://localhost:8080/"
        },
        "id": "xqV1v3DpqnO3",
        "outputId": "82a7b1c2-7202-4824-843e-32af0668d3b4"
      },
      "execution_count": 28,
      "outputs": [
        {
          "output_type": "execute_result",
          "data": {
            "text/plain": [
              "[1, 2, 4, 7, 14]"
            ]
          },
          "metadata": {},
          "execution_count": 28
        }
      ]
    },
    {
      "cell_type": "code",
      "source": [
        "if sum(Perfectos) == 28:\n",
        "    print(\"perfecto\")\n",
        "  else:\n",
        "    print(\"imperfectos\")"
      ],
      "metadata": {
        "colab": {
          "base_uri": "https://localhost:8080/",
          "height": 140
        },
        "id": "-3tB6FmKrSl4",
        "outputId": "4170553c-a0f4-4f10-f819-569314359fc0"
      },
      "execution_count": 32,
      "outputs": [
        {
          "output_type": "error",
          "ename": "IndentationError",
          "evalue": "unindent does not match any outer indentation level (<tokenize>, line 3)",
          "traceback": [
            "\u001b[0;36m  File \u001b[0;32m\"<tokenize>\"\u001b[0;36m, line \u001b[0;32m3\u001b[0m\n\u001b[0;31m    else:\u001b[0m\n\u001b[0m    ^\u001b[0m\n\u001b[0;31mIndentationError\u001b[0m\u001b[0;31m:\u001b[0m unindent does not match any outer indentation level\n"
          ]
        }
      ]
    }
  ]
}