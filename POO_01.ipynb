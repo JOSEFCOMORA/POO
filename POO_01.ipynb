{
  "nbformat": 4,
  "nbformat_minor": 0,
  "metadata": {
    "colab": {
      "provenance": []
    },
    "kernelspec": {
      "name": "python3",
      "display_name": "Python 3"
    },
    "language_info": {
      "name": "python"
    }
  },
  "cells": [
    {
      "cell_type": "code",
      "execution_count": 1,
      "metadata": {
        "id": "VfdufXseiYCF"
      },
      "outputs": [],
      "source": []
    },
    {
      "cell_type": "markdown",
      "source": [
        "# Primeros objetos\n",
        "\n",
        "1. Objetos.\n",
        "2. Listas.\n",
        "3. Conjuntos."
      ],
      "metadata": {
        "id": "wNkH8MSlkAcD"
      }
    },
    {
      "cell_type": "markdown",
      "source": [
        "En Python se pueden realizar operaciones sobre objetos. Ademas, es util para resolver un sistema de ecuaciones lineales.\n",
        "$$\n",
        "f(x,y)=\\begin{cases}\n",
        "x + 2y &= 3\\\\\n",
        "2x + 4y &= 6\n",
        "\\end{cases}\n",
        "$$"
      ],
      "metadata": {
        "id": "dBwVABprlk3h"
      }
    },
    {
      "cell_type": "code",
      "source": [
        "print(\"Hola Mundo!\")"
      ],
      "metadata": {
        "colab": {
          "base_uri": "https://localhost:8080/"
        },
        "id": "6wklR5m6q6z_",
        "outputId": "c3690754-2902-4529-aca7-4c94e050a734"
      },
      "execution_count": 2,
      "outputs": [
        {
          "output_type": "stream",
          "name": "stdout",
          "text": [
            "Hola Mundo!\n"
          ]
        }
      ]
    },
    {
      "cell_type": "markdown",
      "source": [
        "#Primeros Objetos\n",
        "\n",
        "\n",
        "*   Numeros enteros\n",
        "*   Numeros flotantes\n",
        "\n",
        "\n",
        "\n",
        "\n",
        "\n",
        "\n",
        "\n"
      ],
      "metadata": {
        "id": "E9G1f8zNsz1e"
      }
    },
    {
      "cell_type": "code",
      "source": [
        "# crear variables\n",
        "\n",
        "x = 3\n",
        "y = 5"
      ],
      "metadata": {
        "id": "uI5b7K3Xtosk"
      },
      "execution_count": 8,
      "outputs": []
    },
    {
      "cell_type": "code",
      "source": [
        "print (x+y)\n",
        "print (x-y)\n",
        "print (x*y)\n",
        "print (x**y)\n",
        "print (x/y)\n",
        "print (x//y)\n",
        "print (x%y)"
      ],
      "metadata": {
        "colab": {
          "base_uri": "https://localhost:8080/"
        },
        "id": "qBggRRTqt8R8",
        "outputId": "ee7a9662-c9e8-48d6-fd30-b996f1b17977"
      },
      "execution_count": 9,
      "outputs": [
        {
          "output_type": "stream",
          "name": "stdout",
          "text": [
            "8\n",
            "-2\n",
            "15\n",
            "243\n",
            "0.6\n",
            "0\n",
            "3\n"
          ]
        }
      ]
    },
    {
      "cell_type": "code",
      "source": [
        "type(x+y)"
      ],
      "metadata": {
        "colab": {
          "base_uri": "https://localhost:8080/"
        },
        "id": "LaH72h9wx28y",
        "outputId": "fc36cd55-6fc1-4736-8322-6e01df58b1c0"
      },
      "execution_count": 10,
      "outputs": [
        {
          "output_type": "execute_result",
          "data": {
            "text/plain": [
              "int"
            ]
          },
          "metadata": {},
          "execution_count": 10
        }
      ]
    },
    {
      "cell_type": "code",
      "source": [
        "type(x/y)"
      ],
      "metadata": {
        "colab": {
          "base_uri": "https://localhost:8080/"
        },
        "id": "LhVUT1jUx7An",
        "outputId": "d18f2fae-3b90-4e27-9957-9a7d4faf6cb0"
      },
      "execution_count": 11,
      "outputs": [
        {
          "output_type": "execute_result",
          "data": {
            "text/plain": [
              "float"
            ]
          },
          "metadata": {},
          "execution_count": 11
        }
      ]
    },
    {
      "cell_type": "code",
      "source": [],
      "metadata": {
        "id": "fmoHyAgrx-Mf"
      },
      "execution_count": null,
      "outputs": []
    }
  ]
}