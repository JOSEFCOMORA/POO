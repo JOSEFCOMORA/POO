{
  "nbformat": 4,
  "nbformat_minor": 0,
  "metadata": {
    "colab": {
      "provenance": []
    },
    "kernelspec": {
      "name": "python3",
      "display_name": "Python 3"
    },
    "language_info": {
      "name": "python"
    }
  },
  "cells": [
    {
      "cell_type": "code",
      "execution_count": 1,
      "metadata": {
        "id": "CGA_35Qnb6pz"
      },
      "outputs": [],
      "source": [
        "def area(b, h):\n",
        "    return b * h / 2"
      ]
    },
    {
      "cell_type": "code",
      "source": [
        "area (7,12)"
      ],
      "metadata": {
        "colab": {
          "base_uri": "https://localhost:8080/"
        },
        "id": "KIOnLcPDcGgp",
        "outputId": "84afe69c-c3c7-4f53-927b-a23fe4c48874"
      },
      "execution_count": 2,
      "outputs": [
        {
          "output_type": "execute_result",
          "data": {
            "text/plain": [
              "42.0"
            ]
          },
          "metadata": {},
          "execution_count": 2
        }
      ]
    },
    {
      "cell_type": "code",
      "source": [
        "def perimetro(b, l):\n",
        "    p=(b*2)+l\n",
        "    return p"
      ],
      "metadata": {
        "id": "SBPn5NnscJtg"
      },
      "execution_count": 8,
      "outputs": []
    },
    {
      "cell_type": "code",
      "source": [
        "perimetro(2,8)"
      ],
      "metadata": {
        "colab": {
          "base_uri": "https://localhost:8080/"
        },
        "id": "5IarMbxxcqkt",
        "outputId": "80d88a66-255f-40de-97ff-77f6cd3b5596"
      },
      "execution_count": 9,
      "outputs": [
        {
          "output_type": "execute_result",
          "data": {
            "text/plain": [
              "12"
            ]
          },
          "metadata": {},
          "execution_count": 9
        }
      ]
    },
    {
      "cell_type": "code",
      "source": [
        "def numpar(x):\n",
        "    num=x%2\n",
        "    return num"
      ],
      "metadata": {
        "id": "8UjkiGR7cuPk"
      },
      "execution_count": 10,
      "outputs": []
    },
    {
      "cell_type": "code",
      "source": [
        "numpar(2)\n",
        "num = 2%2"
      ],
      "metadata": {
        "id": "46ew9sA8c69Z"
      },
      "execution_count": 16,
      "outputs": []
    }
  ]
}