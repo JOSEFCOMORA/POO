{
  "nbformat": 4,
  "nbformat_minor": 0,
  "metadata": {
    "colab": {
      "provenance": []
    },
    "kernelspec": {
      "name": "python3",
      "display_name": "Python 3"
    },
    "language_info": {
      "name": "python"
    }
  },
  "cells": [
    {
      "cell_type": "code",
      "execution_count": 1,
      "metadata": {
        "id": "T4QO5JCSyjtQ"
      },
      "outputs": [],
      "source": [
        "def Area(a,b):\n",
        "  x = (a*b)/2\n",
        "  return x\n"
      ]
    },
    {
      "cell_type": "code",
      "source": [
        "Area(1,1)"
      ],
      "metadata": {
        "colab": {
          "base_uri": "https://localhost:8080/"
        },
        "id": "4NVz2vPuyx0P",
        "outputId": "5e104c66-b5b4-4195-be05-b2dcfc813211"
      },
      "execution_count": 2,
      "outputs": [
        {
          "output_type": "execute_result",
          "data": {
            "text/plain": [
              "0.5"
            ]
          },
          "metadata": {},
          "execution_count": 2
        }
      ]
    },
    {
      "cell_type": "code",
      "source": [
        "import sympy\n",
        "\n",
        "from sympy import symbols, integrate\n",
        "\n",
        "x = symbols(\"x\")\n",
        "\n",
        "f = (1-x**2)**(0.5)\n",
        "f"
      ],
      "metadata": {
        "colab": {
          "base_uri": "https://localhost:8080/",
          "height": 41
        },
        "id": "FfxWaI3sy4vm",
        "outputId": "29dd271c-3b8d-41ef-c425-7b1238cef7e8"
      },
      "execution_count": 7,
      "outputs": [
        {
          "output_type": "execute_result",
          "data": {
            "text/plain": [
              "(1 - x**2)**0.5"
            ],
            "text/latex": "$\\displaystyle \\left(1 - x^{2}\\right)^{0.5}$"
          },
          "metadata": {},
          "execution_count": 7
        }
      ]
    },
    {
      "cell_type": "code",
      "source": [
        "integral = integrate(f, (x,0,1))\n",
        "integral"
      ],
      "metadata": {
        "colab": {
          "base_uri": "https://localhost:8080/",
          "height": 58
        },
        "id": "pbeW0AYC3FuP",
        "outputId": "e66f829e-57c2-4e8f-b145-2cc74aa1d923"
      },
      "execution_count": 13,
      "outputs": [
        {
          "output_type": "execute_result",
          "data": {
            "text/plain": [
              "1.0*hyper((-0.5, 1/2), (3/2,), 1)"
            ],
            "text/latex": "$\\displaystyle 1.0 {{}_{2}F_{1}\\left(\\begin{matrix} -0.5, \\frac{1}{2} \\\\ \\frac{3}{2} \\end{matrix}\\middle| {1} \\right)}$"
          },
          "metadata": {},
          "execution_count": 13
        }
      ]
    },
    {
      "cell_type": "code",
      "source": [],
      "metadata": {
        "id": "fdQPqxhd3Tos"
      },
      "execution_count": null,
      "outputs": []
    }
  ]
}